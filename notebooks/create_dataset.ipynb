{
 "cells": [
  {
   "cell_type": "markdown",
   "id": "07b0e77b-7b46-423e-8a67-f26f149eaaf7",
   "metadata": {},
   "source": [
    "# Create Dataset\n",
    "This notebook creates a sample data with 500 values using Faker."
   ]
  },
  {
   "cell_type": "code",
   "execution_count": 1,
   "id": "769a13e9-a370-4b23-b358-773c6225da14",
   "metadata": {},
   "outputs": [],
   "source": [
    "import pandas as pd\n",
    "from faker import Faker"
   ]
  },
  {
   "cell_type": "code",
   "execution_count": 2,
   "id": "3a737816-8d56-4d47-96c1-1f642247593f",
   "metadata": {},
   "outputs": [],
   "source": [
    "fake = Faker()"
   ]
  },
  {
   "cell_type": "code",
   "execution_count": 3,
   "id": "38fecc0f-54c4-4184-bdaa-f39090a90a96",
   "metadata": {},
   "outputs": [],
   "source": [
    "first_names = [fake.unique.first_name() for i in range(500)]"
   ]
  },
  {
   "cell_type": "code",
   "execution_count": 4,
   "id": "8cb16ea7-ee41-4769-8f49-5e24868b9996",
   "metadata": {},
   "outputs": [],
   "source": [
    "last_names = [fake.unique.last_name() for i in range(500)]"
   ]
  },
  {
   "cell_type": "code",
   "execution_count": 5,
   "id": "4bd9777b-5e65-44dd-878b-9cc390d7770d",
   "metadata": {},
   "outputs": [],
   "source": [
    "time_joined = [fake.time() for i in range(500)]"
   ]
  },
  {
   "cell_type": "code",
   "execution_count": 6,
   "id": "9e260a8c-8fa2-4d86-b859-bbcdaae3065f",
   "metadata": {},
   "outputs": [],
   "source": [
    "time_left = [fake.time() for i in range(500)]"
   ]
  },
  {
   "cell_type": "code",
   "execution_count": 7,
   "id": "402dded8-638f-47d6-83fe-263cd4684e06",
   "metadata": {},
   "outputs": [],
   "source": [
    "duration = [fake.time_delta() for i in range(500)]"
   ]
  },
  {
   "cell_type": "code",
   "execution_count": 8,
   "id": "0c3c62ca-b178-4a63-ba8c-81889f366467",
   "metadata": {},
   "outputs": [],
   "source": [
    "emails = [fake.ascii_company_email() for i in range(500)]"
   ]
  },
  {
   "cell_type": "code",
   "execution_count": 9,
   "id": "2ceb6007-7f1b-4e40-9c33-aa2d550c7c30",
   "metadata": {},
   "outputs": [
    {
     "data": {
      "text/html": [
       "<div>\n",
       "<style scoped>\n",
       "    .dataframe tbody tr th:only-of-type {\n",
       "        vertical-align: middle;\n",
       "    }\n",
       "\n",
       "    .dataframe tbody tr th {\n",
       "        vertical-align: top;\n",
       "    }\n",
       "\n",
       "    .dataframe thead th {\n",
       "        text-align: right;\n",
       "    }\n",
       "</style>\n",
       "<table border=\"1\" class=\"dataframe\">\n",
       "  <thead>\n",
       "    <tr style=\"text-align: right;\">\n",
       "      <th></th>\n",
       "      <th>First name</th>\n",
       "      <th>Last name</th>\n",
       "      <th>Email</th>\n",
       "      <th>Duration</th>\n",
       "      <th>Time joined</th>\n",
       "      <th>Time exited</th>\n",
       "    </tr>\n",
       "  </thead>\n",
       "  <tbody>\n",
       "    <tr>\n",
       "      <th>0</th>\n",
       "      <td>Nathan</td>\n",
       "      <td>Burke</td>\n",
       "      <td>brittany44@brown-walton.com</td>\n",
       "      <td>0 days</td>\n",
       "      <td>02:25:50</td>\n",
       "      <td>21:26:44</td>\n",
       "    </tr>\n",
       "    <tr>\n",
       "      <th>1</th>\n",
       "      <td>Emma</td>\n",
       "      <td>Gonzalez</td>\n",
       "      <td>hotina@mueller-ford.com</td>\n",
       "      <td>0 days</td>\n",
       "      <td>00:38:31</td>\n",
       "      <td>17:25:35</td>\n",
       "    </tr>\n",
       "    <tr>\n",
       "      <th>2</th>\n",
       "      <td>Kurt</td>\n",
       "      <td>Henderson</td>\n",
       "      <td>chapmanjohn@smith.com</td>\n",
       "      <td>0 days</td>\n",
       "      <td>05:59:49</td>\n",
       "      <td>05:01:29</td>\n",
       "    </tr>\n",
       "    <tr>\n",
       "      <th>3</th>\n",
       "      <td>Tracey</td>\n",
       "      <td>Dunn</td>\n",
       "      <td>bzhang@wise.com</td>\n",
       "      <td>0 days</td>\n",
       "      <td>08:24:01</td>\n",
       "      <td>15:16:16</td>\n",
       "    </tr>\n",
       "    <tr>\n",
       "      <th>4</th>\n",
       "      <td>Kimberly</td>\n",
       "      <td>Barnes</td>\n",
       "      <td>unelson@hull.com</td>\n",
       "      <td>0 days</td>\n",
       "      <td>15:48:41</td>\n",
       "      <td>03:14:39</td>\n",
       "    </tr>\n",
       "  </tbody>\n",
       "</table>\n",
       "</div>"
      ],
      "text/plain": [
       "  First name  Last name                        Email Duration Time joined  \\\n",
       "0     Nathan      Burke  brittany44@brown-walton.com   0 days    02:25:50   \n",
       "1       Emma   Gonzalez      hotina@mueller-ford.com   0 days    00:38:31   \n",
       "2       Kurt  Henderson        chapmanjohn@smith.com   0 days    05:59:49   \n",
       "3     Tracey       Dunn              bzhang@wise.com   0 days    08:24:01   \n",
       "4   Kimberly     Barnes             unelson@hull.com   0 days    15:48:41   \n",
       "\n",
       "  Time exited  \n",
       "0    21:26:44  \n",
       "1    17:25:35  \n",
       "2    05:01:29  \n",
       "3    15:16:16  \n",
       "4    03:14:39  "
      ]
     },
     "execution_count": 9,
     "metadata": {},
     "output_type": "execute_result"
    }
   ],
   "source": [
    "df = pd.DataFrame(\n",
    "    list(zip(first_names, last_names, emails, duration, time_joined, time_left)),\n",
    "    columns=[\n",
    "        \"First name\",\n",
    "        \"Last name\",\n",
    "        \"Email\",\n",
    "        \"Duration\",\n",
    "        \"Time joined\",\n",
    "        \"Time exited\",\n",
    "    ],\n",
    ")\n",
    "df.head()"
   ]
  },
  {
   "cell_type": "code",
   "execution_count": 10,
   "id": "a4beafe4-aeda-4c0b-bc41-f8d963b43115",
   "metadata": {},
   "outputs": [],
   "source": [
    "df.to_csv(\"../data/raw/sample_data.csv\")"
   ]
  },
  {
   "cell_type": "markdown",
   "id": "01191440-a5d2-4bcc-8a6a-698165e0ba0f",
   "metadata": {},
   "source": [
    "# Conclusion\n",
    "The dataset was created using Faker for 500 entries, and saved to data directory."
   ]
  }
 ],
 "metadata": {
  "kernelspec": {
   "display_name": "Python 3",
   "language": "python",
   "name": "python3"
  },
  "language_info": {
   "codemirror_mode": {
    "name": "ipython",
    "version": 3
   },
   "file_extension": ".py",
   "mimetype": "text/x-python",
   "name": "python",
   "nbconvert_exporter": "python",
   "pygments_lexer": "ipython3",
   "version": "3.8.6"
  }
 },
 "nbformat": 4,
 "nbformat_minor": 5
}
