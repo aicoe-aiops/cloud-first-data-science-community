{
 "cells": [
  {
   "cell_type": "markdown",
   "id": "72eda876",
   "metadata": {
    "ExecuteTime": {
     "end_time": "2022-02-08T14:03:46.769026Z",
     "start_time": "2022-02-08T14:03:46.625474Z"
    }
   },
   "source": [
    "# Data Obfuscation"
   ]
  },
  {
   "cell_type": "markdown",
   "id": "b0bd5722",
   "metadata": {},
   "source": [
    "A common scenario encountered by data scientists is sharing data with others. A lot of data we collect today can easily be linked to an individual, household or entity. What should we do when we need to share these data with others?\n",
    "\n",
    "A common solution is to remove these fields before sharing the data. However, analysis may rely on personal data.\n",
    "\n",
    "# Cryptographic Hash\n",
    "\n",
    "One of the method to anonymise the personal data is by using Hashing. A hash function maps arbitrary strings of data to a fixed length bit array. The function is deterministic and public, but the mapping should seem random. Hash functions do not have a secret key. Since there are no secrets and the function itself is public,anyone can evaluate the function.\n",
    "\n",
    "The algorithms can map both alphanumeric and non-alphanumeric characters to a bit array. The bit array can be returned in bytes or into a hexadecimal format.\n",
    "\n",
    "## Properties of Cryptographic Hashes\n",
    "\n",
    "- **Pre-Image Resistance**: For essentially all pre-specified outputs, it is computationally infeasible to find any input which hashes to that output. This means that a hash can be computed relatively easily for a given string(s), but inverting the output to find the original string(s) is difficult.\n",
    "\n",
    "\n",
    "- **Second Pre-Image Resistance**: It is computationally infeasible to find any second input which has the same output as any specified input. This means given a certain string input, it should be difficult to find another input that produces the same hash. Also known as Weak Collision Resistance.\n",
    "\n",
    "\n",
    "- **Collision Resistance**: It is computationally infeasible to find any two distinct inputs which hash to the same output. This means it should be difficult to find two different strings that create the same hash."
   ]
  },
  {
   "cell_type": "markdown",
   "id": "aabf5009",
   "metadata": {},
   "source": [
    "## Hashing with Python's `hashlib` module\n",
    "\n",
    "[hashlib](https://docs.python.org/3/library/hashlib.html) is a convenient hashing module that comes with the Python intrepreter. No additional installation is necessary besides Python interpreter. \n",
    "\n",
    "Several different methods to create hash can be called from different functions in `hashlib`. "
   ]
  },
  {
   "cell_type": "code",
   "execution_count": 1,
   "id": "142493c7",
   "metadata": {
    "ExecuteTime": {
     "end_time": "2022-02-16T16:23:16.152016Z",
     "start_time": "2022-02-16T16:23:16.146512Z"
    }
   },
   "outputs": [],
   "source": [
    "import hashlib"
   ]
  },
  {
   "cell_type": "markdown",
   "id": "2f937b9c",
   "metadata": {},
   "source": [
    "## MD5 (Message Digest 5)\n",
    "\n",
    "MD5 is very popular hashing algorithm created long time ago. MD5 is an algorithm that uses a hash function that takes a given input and produces a 128-bit number that is 32 digits long. The algorithm was developed in the 1990's and has been broken since then. It should not be used as a cybersecurity encryption tool."
   ]
  },
  {
   "cell_type": "markdown",
   "id": "f3c80132",
   "metadata": {},
   "source": [
    "**Now creating a md5 hash for the word hello**"
   ]
  },
  {
   "cell_type": "code",
   "execution_count": 2,
   "id": "b14a783a",
   "metadata": {
    "ExecuteTime": {
     "end_time": "2022-02-16T16:23:16.203243Z",
     "start_time": "2022-02-16T16:23:16.200562Z"
    }
   },
   "outputs": [
    {
     "name": "stdout",
     "output_type": "stream",
     "text": [
      "The MD5 hexadecimal hash value for \"hello\" is: 5d41402abc4b2a76b9719d911017c592\n",
      "The length of the hash is: 32 characters\n"
     ]
    }
   ],
   "source": [
    "md5_hash_hex = hashlib.md5(b\"hello\").hexdigest()\n",
    "print(\n",
    "    f'The MD5 hexadecimal hash value for \"hello\" is'\n",
    "    f\": {md5_hash_hex}\\nThe length of the hash is\"\n",
    "    f\": {len(md5_hash_hex)} characters\"\n",
    ")"
   ]
  },
  {
   "cell_type": "markdown",
   "id": "be233a1a",
   "metadata": {},
   "source": [
    "We can see in the below code that the MD5 algorithm is broken because it does not hold up to `Collision Resistance`. A famous [Cryptography paper](http://merlot.usc.edu/csac-f06/papers/Wang05a.pdf) by Wang Xiaoyun and Hongbo Yu shows that they were able to break Collision Resistance for MD5 with the two below strings. Even though the strings are different, they produce the same hash. Over time, cryptographers were able to find more examples of violations of Collision Resistance within the MD5 algorithm."
   ]
  },
  {
   "cell_type": "markdown",
   "id": "c3939675",
   "metadata": {},
   "source": [
    "In the example below, we see that for the two different strings `string_1` and `string_2`, the MD5 hexadecimal hex value are same and hence violating Collision Resistance."
   ]
  },
  {
   "cell_type": "code",
   "execution_count": 3,
   "id": "52c53f85",
   "metadata": {
    "ExecuteTime": {
     "end_time": "2022-02-16T16:23:16.218021Z",
     "start_time": "2022-02-16T16:23:16.215378Z"
    }
   },
   "outputs": [
    {
     "name": "stdout",
     "output_type": "stream",
     "text": [
      "Check to see if the strings are the same: False\n",
      "Using the MD5 algorithm, we see that this is a Collision and that the algorithm fails : True\n"
     ]
    }
   ],
   "source": [
    "string_1 = \"d131dd02c5e6eec4693d9a0698aff95c2fcab58712467eab4004583eb8fb7f8955ad340609f4b30283e488832571415a085125e8f7cdc99fd91dbdf280373c5bd8823e3156348f5bae6dacd436c919c6dd53e2b487da03fd02396306d248cda0e99f33420f577ee8ce54b67080a80d1ec69821bcb6a8839396f9652b6ff72a70\"\n",
    "string_2 = \"d131dd02c5e6eec4693d9a0698aff95c2fcab50712467eab4004583eb8fb7f8955ad340609f4b30283e4888325f1415a085125e8f7cdc99fd91dbd7280373c5bd8823e3156348f5bae6dacd436c919c6dd53e23487da03fd02396306d248cda0e99f33420f577ee8ce54b67080280d1ec69821bcb6a8839396f965ab6ff72a70\"\n",
    "\n",
    "print(f\"Check to see if the strings are the same: {string_1 == string_2}\")\n",
    "\n",
    "# convert into binary\n",
    "string_1_hex = bytearray.fromhex(string_1)\n",
    "string_2_hex = bytearray.fromhex(string_2)\n",
    "\n",
    "# this is an example of collision where MD5 fails\n",
    "print(\n",
    "    f\"Using the MD5 algorithm, we see that this is a Collision and that the algorithm fails : \"\n",
    "    f\"{hashlib.md5(string_1_hex).hexdigest() == hashlib.md5(string_2_hex).hexdigest()}\"\n",
    ")"
   ]
  },
  {
   "cell_type": "markdown",
   "id": "5f8fd351",
   "metadata": {},
   "source": [
    "## SHA hash functions \n",
    "\n",
    "Secure Hash Algorithm (SHA) is a family of cryptographic hash functions. These one way algorithms takes input of any sizes, mixes it up and creates fixed sized outputs. It is virtually impossible to transform them back into the original data. SHA (SHA1 / SHA224 / SHA256 / SHA384 / SHA512) can create hash from 128 bytes to 512 bytes. Among them, SHA-256 and SHA-512 are considered secure versions from the family. A google partnered [reported](https://security.googleblog.com/2017/02/announcing-first-sha1-collision.html) the first ever hash collision of the SHA-1 hash algorithm. According the this report, two different strings can generate same hash, which violates the collision resistance.  \n"
   ]
  },
  {
   "cell_type": "markdown",
   "id": "ae977a67",
   "metadata": {},
   "source": [
    "**Now creating a SHA-256 hash for the word hello**"
   ]
  },
  {
   "cell_type": "code",
   "execution_count": 4,
   "id": "0599a56f",
   "metadata": {
    "ExecuteTime": {
     "end_time": "2022-02-16T16:23:16.254427Z",
     "start_time": "2022-02-16T16:23:16.252312Z"
    }
   },
   "outputs": [
    {
     "name": "stdout",
     "output_type": "stream",
     "text": [
      "The SHA-256 hexadecimal hash value for \"hello\" is: 2cf24dba5fb0a30e26e83b2ac5b9e29e1b161e5c1fa7425e73043362938b9824\n",
      "The length of the hash is: 64 characters\n"
     ]
    }
   ],
   "source": [
    "sha_hash_hex = hashlib.sha256(b\"hello\").hexdigest()\n",
    "print(\n",
    "    f'The SHA-256 hexadecimal hash value for \"hello\" is'\n",
    "    f\": {sha_hash_hex}\\nThe length of the hash is\"\n",
    "    f\": {len(sha_hash_hex)} characters\"\n",
    ")"
   ]
  },
  {
   "cell_type": "markdown",
   "id": "ad901232",
   "metadata": {},
   "source": [
    "Now, even though SHA-256 hash abides to every condition of being a secure hash function. We just cannot generate original value from the SHA hash. However, hackers have their way of retriving original value from the given hash. One of the way is known as dictionary attack. "
   ]
  },
  {
   "cell_type": "markdown",
   "id": "ed81bf98",
   "metadata": {},
   "source": [
    "### Dictionary attack\n",
    "\n",
    "A dictionary attack is a type of brute force attack where an attacker tries to access an account by iterating through a dictionary of common phrases and words. The size of the dictionaries can vary from hundreds of thousands of password variations to billions. A dictionary containing over 1 billion unique words takes up only 15 gigabytes."
   ]
  },
  {
   "cell_type": "markdown",
   "id": "636bf603",
   "metadata": {},
   "source": [
    "An example of dictionary attack is shown below, where the hacker make use of the dictionary of common words with their hash value, to get to the original value. "
   ]
  },
  {
   "cell_type": "code",
   "execution_count": 5,
   "id": "c7338457",
   "metadata": {
    "ExecuteTime": {
     "end_time": "2022-02-16T16:23:16.346260Z",
     "start_time": "2022-02-16T16:23:16.343372Z"
    }
   },
   "outputs": [],
   "source": [
    "# dictionary that we will use to try to break a password\n",
    "data_dict_attack = {\n",
    "    \"123456\": hashlib.sha256(b\"123456\").hexdigest(),\n",
    "    \"password\": hashlib.sha256(b\"password\").hexdigest(),\n",
    "    \"myname\": hashlib.sha256(b\"myname\").hexdigest(),\n",
    "    \"testpass\": hashlib.sha256(b\"testpass\").hexdigest(),\n",
    "    \"password25\": hashlib.sha256(b\"password25\").hexdigest(),\n",
    "    \"asdf\": hashlib.sha256(b\"asdf\").hexdigest(),\n",
    "    \"123456789\": hashlib.sha256(b\"123456789\").hexdigest(),\n",
    "    \"iloveyou\": hashlib.sha256(b\"iloveyou\").hexdigest(),\n",
    "    \"sunshine\": hashlib.sha256(b\"sunshine\").hexdigest(),\n",
    "    \"basketball\": hashlib.sha256(b\"basketball\").hexdigest(),\n",
    "}"
   ]
  },
  {
   "cell_type": "markdown",
   "id": "d3040bbe",
   "metadata": {},
   "source": [
    "Now, if a hacker has got hold of the `hash value` and if the original word is in the list of hackers dictionary. Then, hacker can retrieve the info by doing the brute force over all the words in the dictionary. "
   ]
  },
  {
   "cell_type": "code",
   "execution_count": 6,
   "id": "0f451a46",
   "metadata": {
    "ExecuteTime": {
     "end_time": "2022-02-16T16:23:16.354640Z",
     "start_time": "2022-02-16T16:23:16.347390Z"
    }
   },
   "outputs": [
    {
     "name": "stdout",
     "output_type": "stream",
     "text": [
      "No word found\n",
      "No word found\n",
      "No word found\n",
      "No word found\n",
      "No word found\n",
      "No word found\n",
      "No word found\n",
      "No word found\n",
      "sunshine\n",
      "No word found\n"
     ]
    }
   ],
   "source": [
    "hash_value = \"a941a4c4fd0c01cddef61b8be963bf4c1e2b0811c037ce3f1835fddf6ef6c223\"\n",
    "\n",
    "for org_word, hash in data_dict_attack.items():\n",
    "    if hash == hash_value:\n",
    "        print(org_word)\n",
    "    else:\n",
    "        print(\"No word found\")"
   ]
  },
  {
   "cell_type": "markdown",
   "id": "0653d228",
   "metadata": {},
   "source": [
    "In the above example, since `sunshine`, being a common word is present in the hacker dictionary. They were able to identify the original word for the given hash value. This happens if any password is saved as a hash value in a system. If the hacker got hold of the hash value, then there is a chance of knowing the password if it is in the dictionary of hacker.\n",
    "\n",
    "One of the way to make password or original word more secure is by the addition of salt value. "
   ]
  },
  {
   "cell_type": "markdown",
   "id": "4bc007d8",
   "metadata": {},
   "source": [
    "### What is Salt?\n",
    "\n",
    "A [salt](https://en.wikipedia.org/wiki/Salt_(cryptography)) is a random character string that is added to the beginning or the end of a password/original word. This salt is unique to each user, and is stored in the database along with the username and salted-hashed word/password.\n",
    "\n",
    "Salt solves the collision problem that hash function suffers from. Like in the above case, even if the given word matches with the word from the hackers dictionary. The hacker will not be able to trace the original word. Salt increases the search space that attackers use to try to brute force passwords by increasing the complexity of each word.\n",
    "\n",
    "In the example below, we demonstrate how the addition of a salt makes it harder for the hacker to trace the word. "
   ]
  },
  {
   "cell_type": "code",
   "execution_count": 7,
   "id": "402cfe35",
   "metadata": {
    "ExecuteTime": {
     "end_time": "2022-02-16T16:23:16.419085Z",
     "start_time": "2022-02-16T16:23:16.414697Z"
    }
   },
   "outputs": [
    {
     "name": "stdout",
     "output_type": "stream",
     "text": [
      "The salt is: F2sbncxCq2\n",
      "The new word is: sunshineF2sbncxCq2\n",
      "1d483c49ef898c03db2e727265342cf27150f196b5a9c6dbf47646851e65e1f2\n"
     ]
    }
   ],
   "source": [
    "import string\n",
    "import secrets\n",
    "\n",
    "# prompt user to set their password\n",
    "org_word = \"sunshine\"\n",
    "\n",
    "# set up list of alphanumeric characters that can be used for the salt value\n",
    "char_list = string.printable[0:50]\n",
    "\n",
    "# create salt from random values\n",
    "salt = \"\"\n",
    "while len(salt) < 10:\n",
    "    salt += secrets.choice(\n",
    "        char_list\n",
    "    )  # it will continually append string characters into our variable randomly\n",
    "# concatenate the original word and the salt\n",
    "org_word = org_word + salt\n",
    "\n",
    "print(f\"The salt is: {salt}\\nThe new word is: {org_word}\")\n",
    "org_word = hashlib.sha256(org_word.encode(\"UTF-8\"))\n",
    "print(org_word.hexdigest())"
   ]
  },
  {
   "cell_type": "markdown",
   "id": "74e69856",
   "metadata": {},
   "source": [
    "Now, we use the above hash and sample dictionary to see if we can trace back the original word `sunshine`. "
   ]
  },
  {
   "cell_type": "code",
   "execution_count": 8,
   "id": "0e0182ac",
   "metadata": {
    "ExecuteTime": {
     "end_time": "2022-02-16T16:23:16.424525Z",
     "start_time": "2022-02-16T16:23:16.420348Z"
    }
   },
   "outputs": [
    {
     "name": "stdout",
     "output_type": "stream",
     "text": [
      "No word found\n",
      "No word found\n",
      "No word found\n",
      "No word found\n",
      "No word found\n",
      "No word found\n",
      "No word found\n",
      "No word found\n",
      "No word found\n",
      "No word found\n"
     ]
    }
   ],
   "source": [
    "# Dictionary Attack on Salt Adjusted word\n",
    "\n",
    "# no luck on cracking the hash adjusted with a salt value\n",
    "intercepted_salt_hash = (\n",
    "    \"9df872a433b8a32a5d29760abd6a3504d3772b49cee6dcd6eb885e5b6b5c18f9\"\n",
    ")\n",
    "\n",
    "for word, has in data_dict_attack.items():\n",
    "    if has == intercepted_salt_hash:\n",
    "        print(word)\n",
    "    else:\n",
    "        print(\"No word found\")"
   ]
  },
  {
   "cell_type": "markdown",
   "id": "bb1222a9",
   "metadata": {},
   "source": [
    "We see that, now because of the addition of random salt. The hacker could not trace the orginal word even though the original word `sunshine` was there in the sample dictionary.\n",
    "\n",
    "One of the important application of salt use in storing users password in the database. Users enter the password, which is then inserted into a hash function that then maps the user password to a fixed length of random characters.\n",
    "\n",
    "Some of the common mistakes with salts are **salt reuse** and **short salt**.\n",
    "\n",
    "**Salt reuse** occurs when a developer uses the same salt for each password and basically makes the salt useless. Users with the same password will have the same salted-hashed password and if an attacker can guess the salt, they can brute-force the passwords with ease.\n",
    "\n",
    "**Short salt** refers to a salts' length being too short. The problem with this is that attackers can simply generate each combinations of characters with that length and pair it will common password to brute-force some of your users' password. "
   ]
  },
  {
   "cell_type": "markdown",
   "id": "b178392b",
   "metadata": {},
   "source": [
    "## PBKDF2\n",
    "\n",
    "Traditionally words or more importantly password to be hashed using an algorithm like md5, SHA-1 or SHA-256 and then stored in the database. These stored hashed password would then be used as parts of password based authentication system. For years hashing has been the accepted standards when it comes to using and storing passwords. Using hashing functions for storing passwords does have its problems though. Hash functions like MD5, SHA-1, SHA-256 are general purpose hash functions designed to calculate a message digest of large amount of data in the shortest time possible. This means they are excellent in ensuring the integrity of data but they are not very good for storing passwords. As CPU's and GPU's are getting faster attacker can write code to make recovering hashed password easier and quicker. A salt in a password does give some protection against these attack but we should not rely on it. It is still vulnerable to brute force attacks where attacker can try out every possible key combination till they hit upon the correct one.\n",
    "\n",
    "So to add another layer of security, we can also define how many times the hashing function run or to put it another way how many iterations will it have. Adding more iterations makes the hashing function slower. So the question why in the world would we want to intentionally slowdown our function. It is because a slower function is more immune to brute force attacks since it will take longer to test out each possible key combination. This makes brute force attacks slower and therefore so much more difficult to pull off successfully. Hence when it comes to password hashing, slower is strangely enough better. \n",
    "\n",
    "To get around this problem we have password based key derivation function also known as PBKDF2. It is also known as key stretching algotithm. This is more general term used for password based key derivation function that secures against brute force attack by increasing the time it takes to test each possible key. This is part of RSA public key cryptographic standards or PKCS for sure.\n",
    "\n",
    "PBKDF is similar to hash function. You have to provide it with initial password to hash as well as a salt except you do not precombine the password and a salt as before. You also have to provide a number of iterations parameter, which tells the algorithm how many times to execute before returning the hash password. This number of iterations parameter allows you to algorithmically slow down the key generation and help guard against the dictionary attack.\n",
    "\n",
    "\n",
    "PBKDF2 is a simple cryptographic key derivation function, which is resistant to dictionary attacks and rainbow table attacks. It is based on iteratively deriving HMAC many times with some padding. The PBKDF2 is described in the internet standard [RFC 2898](https://www.ietf.org/rfc/rfc2898.txt). It takes several input parameters and produce derived key as output.\n",
    "\n",
    "```\n",
    "\n",
    "key = pbkdf2(password, salt, iterations-count, hash-function, derived-key-lan)\n",
    "\n",
    "```\n",
    "\n",
    "Technically, the input data for PBKDF2 consists of :\n",
    "\n",
    "- password : array of bytes/string, e.g. \"sunshine!25\" (8-10 chars minimum length is recomended)\n",
    "\n",
    "- salt : securely generated random bytes, e.g. \"df1f2d3f4d77ac66e9c5a6c3d8f921b6\" (minimum 64 bits, 128 bits is recommended)\n",
    "\n",
    "- iterations-count : e.g. 1024 iterations\n",
    "\n",
    "- hash-function : e.g. SHA-256\n",
    "\n",
    "- derived-key-len : for the output, e.g. 32 bytes (256 bits)\n",
    "\n",
    "The output data is the derived key of requested length.\n",
    "\n",
    "In the next case, we are writing some demo code to derive the key from a password using the PBKDF2 algorithm. Firstly, install the package `backports.pbkdf2` using the command:\n",
    "```pip install backports.pbkdf2```"
   ]
  },
  {
   "cell_type": "code",
   "execution_count": 9,
   "id": "41c95ce8",
   "metadata": {
    "ExecuteTime": {
     "end_time": "2022-02-16T16:23:16.444515Z",
     "start_time": "2022-02-16T16:23:16.440486Z"
    }
   },
   "outputs": [
    {
     "name": "stdout",
     "output_type": "stream",
     "text": [
      "Derived key: b'6231dbad23daaa36b05ef3e0b93c5173b013ccf4f224fce3b43c7c49528ec3a6'\n"
     ]
    }
   ],
   "source": [
    "import os, binascii\n",
    "from backports.pbkdf2 import pbkdf2_hmac\n",
    "\n",
    "salt = binascii.unhexlify(\"aaef2d3f4d77ac66e9c5a6c3d8f921d1\")\n",
    "passwd = \"sunshine!25\".encode(\"utf8\")\n",
    "key = pbkdf2_hmac(\"sha256\", passwd, salt, 100, 32)\n",
    "print(\"Derived key:\", binascii.hexlify(key))"
   ]
  },
  {
   "cell_type": "markdown",
   "id": "9cb72bcf",
   "metadata": {},
   "source": [
    "Changing the number of iterations changes the execution time."
   ]
  },
  {
   "cell_type": "markdown",
   "id": "1be311c6",
   "metadata": {},
   "source": [
    "PBKDF2 allows to configure the number of iterations and thus to configure the time required to derive the key.\n",
    "\n",
    "- Slower key derivation means high login time/slower descryption and high resistance to password cracking attacks.\n",
    "\n",
    "\n",
    "- Faster key derivation means short login time/faster descryption and lower resistance to password cracking attacks.\n",
    "\n",
    "\n",
    "- PBKDF2 is not resistance to [GPU attacks](https://security.stackexchange.com/questions/118147/how-are-gpus-used-in-brute-force-attacks) (parallel password cracking using vedio cards) and to [ASCII attacks](https://en.wikipedia.org/wiki/Custom_hardware_attack) (specialized password cracking hardware) . This is the main motivation behind more modern KDF. In present times, PBKDF2 is considered old fashioned and less secure than modern KDF, so it it recommended to use Bcrypt, Scrypt or Argon2 instead. "
   ]
  },
  {
   "cell_type": "markdown",
   "id": "5084f050",
   "metadata": {},
   "source": [
    "## Bcrypt\n",
    "\n",
    "[Bcrypt](https://en.wikipedia.org/wiki/Bcrypt) is another cryptographic KDF function, older than Scrypt, and is less resistant to ASIC and GPU attacks. It provides configurable iteration count, but uses constant memory, so it is easier to build hardware-accelerated password crackers.\n",
    "\n",
    "In a demo below, we show how to hash a password using bcrypt."
   ]
  },
  {
   "cell_type": "code",
   "execution_count": 10,
   "id": "75417220",
   "metadata": {
    "ExecuteTime": {
     "end_time": "2022-02-16T16:23:16.711855Z",
     "start_time": "2022-02-16T16:23:16.487526Z"
    }
   },
   "outputs": [
    {
     "name": "stdout",
     "output_type": "stream",
     "text": [
      "b'$2b$12$NguolIeT7yM6TfQSPojAR.ScFRb7sDDlTH/4iIoMEMhwSKwkLmZGe'\n"
     ]
    }
   ],
   "source": [
    "import bcrypt\n",
    "\n",
    "hashed_pw = bcrypt.hashpw(b\"sunshine!25\", bcrypt.gensalt())\n",
    "print(hashed_pw)"
   ]
  },
  {
   "cell_type": "markdown",
   "id": "269464b0",
   "metadata": {},
   "source": [
    "Now, if we were to hash passwords without salts, an attacker could do a dictionary attack in order to find the original word. \n",
    "\n",
    "BCrypt is from 1999 and is GPU-ASIC resilient by design as it’s also a memory hardening function: it’s not just CPU intensive, but also RAM-intensive to execute a bcrypt hash.\n",
    "However times have changed and a sophisticated and maybe rich attacker will use big and powerful FPGA, and the contemporary models have now embedded RAM blocks, which greatly optimize this job. So while Bcrypt does a good job at making life difficult for an ASIC attacker, it does little against a FPGA one."
   ]
  },
  {
   "cell_type": "markdown",
   "id": "3e6425a4",
   "metadata": {},
   "source": [
    "## Scrypt\n",
    "\n",
    "[Scrypt](https://en.wikipedia.org/wiki/Scrypt) [RFC 7914](https://datatracker.ietf.org/doc/html/rfc7914.html) is a strong cryptographic-derivation function (KDF). It is memory-intensive, designed to prevent GPU, ASIC and FPGA attacks (highly efficient password cracking hardware).\n",
    "\n",
    "The Scrypt algorithm takes several input parameters and produce the derived key as output:\n",
    "\n",
    "```\n",
    "key = Scrypt(password, salt, N , r, p, derived-key-len)\n",
    "```\n",
    "\n",
    "The Scrypt coding parameters are:\n",
    "\n",
    "- N : iterations count (affects memory and CPU usage), also it must be the power of 2 and greater than 1\n",
    "\n",
    "- r : block size (affects memory and CPU usage), e.g. 8\n",
    "\n",
    "- p : parallelism factor (threads to run in parallel - affects the memory, CPU usage), usually 1\n",
    "\n",
    "- password : input password (8-10 chars minimum length is recommended)\n",
    "\n",
    "- salt : securely-generated random bytes (64 bits minimum, 128 bits recommended)\n",
    "\n",
    "- derived-key-length : how many bytes to generate as output, e.g. 32 bytes (256 bits).\n",
    "\n",
    "\n",
    "The memory in Scrypt is accessed in strongly dependent order at each step, so the memory access speed is the algorithm's bottleneck. The memory required to compute Scrypt key derivation is calculated as follows:\n",
    "\n",
    "```Memory required = 128 * N * r * p bytes```\n",
    "\n",
    "In the next case, we are writing some demo code to derive the key from a password using the algorithm. Firstly, install the package `scrypt` using the command:\n",
    "```pip install pyscrypt```"
   ]
  },
  {
   "cell_type": "code",
   "execution_count": 21,
   "id": "8fa8fef5",
   "metadata": {
    "ExecuteTime": {
     "end_time": "2022-02-16T16:23:22.467538Z",
     "start_time": "2022-02-16T16:23:22.331250Z"
    }
   },
   "outputs": [
    {
     "name": "stdout",
     "output_type": "stream",
     "text": [
      "Derived key: 3d859f266f7c76d73431a115e071c5df41bf0ea4e80bda47d637ada76aa492e4\n"
     ]
    }
   ],
   "source": [
    "import pyscrypt\n",
    "\n",
    "salt = b\"aa1f2d3f4d23ac44e9c5a6c3d8f9ee8c\"\n",
    "passwd = b\"sunshine!25\"\n",
    "key = pyscrypt.hash(passwd, salt, 2048, 8, 1, 32)\n",
    "print(\"Derived key:\", key.hex())"
   ]
  },
  {
   "cell_type": "markdown",
   "id": "9ad6a7b2",
   "metadata": {},
   "source": [
    "Try to change the number of iterations or the block size and see how they affect the execution time. When configured properly Scrypt is considered a highly secure KDF function, so you can use it as general purpose password to key derivation algorithm, e.g. when encrypting wallets, files or app passwords."
   ]
  },
  {
   "cell_type": "markdown",
   "id": "cc782238",
   "metadata": {},
   "source": [
    "## Argon2\n",
    "\n",
    "[Argon2](https://en.wikipedia.org/wiki/Argon2) is a modern ASIC-resistant and GPU-resistant secure key derivation function. It has better password cracking resistance (when configured correctly) than PBKDF2, Bcrypt, and Scrypt (for similar configuration parameters for CPU and RAM usage).\n",
    "\n",
    "The Argon2 has several variants:\n",
    "\n",
    "- **Argon2d** : provides strong GPU resistance, but has potential side-channel attacks (possible in very special situations).\n",
    "\n",
    "- **Argon2i** : provides less GPU resistance, but has no side channel attacks.\n",
    "\n",
    "- **Argon2id** : recommended (combines the Argon2d and Argon2i).\n",
    "\n",
    "Argon2 has following config parameters, which are very similar to Scrypt:\n",
    "\n",
    "- password P: the password (or message) to be hashed\n",
    "\n",
    "- salt S: random-generated salt (16 bytes recommended for password hashing)\n",
    "\n",
    "- iterations t: number of iterations to perform\n",
    "\n",
    "- memorySizeKB m: amount of memory (in kilobytes) to use\n",
    "\n",
    "- parallelism p: degree of parallelism (i.e. number of threads)\n",
    "\n",
    "- outputKeyLength T: desired number of returned bytes"
   ]
  },
  {
   "cell_type": "markdown",
   "id": "fdefacbf",
   "metadata": {},
   "source": [
    "In the next case, we are writing some demo code to derive the key from a password using the Argon2 algorithm. Firstly, install the package `argon2_cffi` using the command:\n",
    "```pip install argon2_cffi```"
   ]
  },
  {
   "cell_type": "code",
   "execution_count": 12,
   "id": "3ab84f4e",
   "metadata": {
    "ExecuteTime": {
     "end_time": "2022-02-16T16:23:19.923207Z",
     "start_time": "2022-02-16T16:23:19.076567Z"
    }
   },
   "outputs": [
    {
     "name": "stdout",
     "output_type": "stream",
     "text": [
      "Argon2 raw hash: b'bffe5decc2c3a2343cae3b5b77d8068439e1c52486636d1582a18fc205866985'\n",
      "Argon2 hash (random salt): $argon2id$v=19$m=32768,t=16,p=2$7fNUa5SnVarI3QKVFLp6EQ$3Gfyw0Pcw9ryqkjYRg6KsCpFVR4CZrtTMe5dzHtwXzg\n",
      "Argon2 verify (correct password): True\n",
      "Argon2 verify (incorrect password): False\n"
     ]
    }
   ],
   "source": [
    "import argon2, binascii\n",
    "\n",
    "hash = argon2.hash_password_raw(\n",
    "    time_cost=16,\n",
    "    memory_cost=2**15,\n",
    "    parallelism=2,\n",
    "    hash_len=32,\n",
    "    password=b\"sunshine!25\",\n",
    "    salt=b\"saltname\",\n",
    "    type=argon2.low_level.Type.ID,\n",
    ")\n",
    "print(\"Argon2 raw hash:\", binascii.hexlify(hash))\n",
    "\n",
    "argon2Hasher = argon2.PasswordHasher(\n",
    "    time_cost=16, memory_cost=2**15, parallelism=2, hash_len=32, salt_len=16\n",
    ")\n",
    "hash = argon2Hasher.hash(\"sunshine!25\")\n",
    "print(\"Argon2 hash (random salt):\", hash)\n",
    "\n",
    "verifyValid = argon2Hasher.verify(hash, \"sunshine!25\")\n",
    "print(\"Argon2 verify (correct password):\", verifyValid)\n",
    "\n",
    "try:\n",
    "    argon2Hasher.verify(hash, \"sunshine\")\n",
    "except:\n",
    "    print(\"Argon2 verify (incorrect password):\", False)"
   ]
  },
  {
   "cell_type": "markdown",
   "id": "96247a5f",
   "metadata": {},
   "source": [
    "The above code first derives a 'raw hash' (256 bit key), which is argon-2 based key-derivation function. It also derives a 'argon2 hash', which holds the algorithm parameters, along with random salt and derived key. The derived key is used for password storing and verification. Finally, the calculated hashes are tested against a correct and wrong password.\n",
    "\n",
    "The argon2 hash in the above output is written in a standardized format, which holds the Argon2 algorithm config parameters + the derived key + the random salt.\n",
    "```\n",
    "argon2i\n",
    "\n",
    "v=19\n",
    "\n",
    "m=32768,t=16,p=2\n",
    "\n",
    "NZYe4JT0Vh0nkfTyCBg0dA\n",
    "\n",
    "a6dfhFwO2MolUZWiGEmOipqAZ1bCJTY3piYeliu03ko\n",
    "```\n",
    "The first part is the algorithm name (argon2i), the second is the Argon2i version, and the third part is a list of algorithm parameters related to memory cost (in Kb), time cost, and threads to be used (parallelism).\n",
    "\n",
    "The fourth parameter is the random salt value. This value is generated by password_hash() using a random value for each execution. This is why we have different hash outputs for the same input string. The default size of the salt is 16 bytes.\n",
    "\n",
    "The fifth and last parameter of the string contains the hash value, encoded in Base64. The hash size is 32 bytes.\n",
    "\n",
    "When configured properly Argon2 is considered a highly secure KDF function, one of the best available in the industry, so you can use it as general purpose password to key derivation algorithm, e.g. to when encrypting wallets, documents, files or app passwords. In the general case Argon2 is recommended over Scrypt, Bcrypt and PBKDF2."
   ]
  },
  {
   "cell_type": "markdown",
   "id": "7465727f",
   "metadata": {},
   "source": [
    "In the next case, we will try to obfuscate the first_name and last_name from the database using sha-256 and sha-512. We are not using salt since we want the same first name entries from different database to have the same hash function. "
   ]
  },
  {
   "cell_type": "code",
   "execution_count": 13,
   "id": "47c536f1",
   "metadata": {
    "ExecuteTime": {
     "end_time": "2022-02-16T16:23:20.246038Z",
     "start_time": "2022-02-16T16:23:19.924436Z"
    }
   },
   "outputs": [],
   "source": [
    "import pandas as pd\n",
    "import hashlib"
   ]
  },
  {
   "cell_type": "code",
   "execution_count": 14,
   "id": "afb54351",
   "metadata": {
    "ExecuteTime": {
     "end_time": "2022-02-16T16:23:20.263180Z",
     "start_time": "2022-02-16T16:23:20.247420Z"
    }
   },
   "outputs": [
    {
     "data": {
      "text/html": [
       "<div>\n",
       "<style scoped>\n",
       "    .dataframe tbody tr th:only-of-type {\n",
       "        vertical-align: middle;\n",
       "    }\n",
       "\n",
       "    .dataframe tbody tr th {\n",
       "        vertical-align: top;\n",
       "    }\n",
       "\n",
       "    .dataframe thead th {\n",
       "        text-align: right;\n",
       "    }\n",
       "</style>\n",
       "<table border=\"1\" class=\"dataframe\">\n",
       "  <thead>\n",
       "    <tr style=\"text-align: right;\">\n",
       "      <th></th>\n",
       "      <th>Unnamed: 0</th>\n",
       "      <th>First name</th>\n",
       "      <th>Last name</th>\n",
       "      <th>Email</th>\n",
       "      <th>Duration</th>\n",
       "      <th>Time joined</th>\n",
       "      <th>Time exited</th>\n",
       "    </tr>\n",
       "  </thead>\n",
       "  <tbody>\n",
       "    <tr>\n",
       "      <th>0</th>\n",
       "      <td>0</td>\n",
       "      <td>Nathan</td>\n",
       "      <td>Burke</td>\n",
       "      <td>brittany44@brown-walton.com</td>\n",
       "      <td>0 days</td>\n",
       "      <td>02:25:50</td>\n",
       "      <td>21:26:44</td>\n",
       "    </tr>\n",
       "    <tr>\n",
       "      <th>1</th>\n",
       "      <td>1</td>\n",
       "      <td>Emma</td>\n",
       "      <td>Gonzalez</td>\n",
       "      <td>hotina@mueller-ford.com</td>\n",
       "      <td>0 days</td>\n",
       "      <td>00:38:31</td>\n",
       "      <td>17:25:35</td>\n",
       "    </tr>\n",
       "    <tr>\n",
       "      <th>2</th>\n",
       "      <td>2</td>\n",
       "      <td>Kurt</td>\n",
       "      <td>Henderson</td>\n",
       "      <td>chapmanjohn@smith.com</td>\n",
       "      <td>0 days</td>\n",
       "      <td>05:59:49</td>\n",
       "      <td>05:01:29</td>\n",
       "    </tr>\n",
       "    <tr>\n",
       "      <th>3</th>\n",
       "      <td>3</td>\n",
       "      <td>Tracey</td>\n",
       "      <td>Dunn</td>\n",
       "      <td>bzhang@wise.com</td>\n",
       "      <td>0 days</td>\n",
       "      <td>08:24:01</td>\n",
       "      <td>15:16:16</td>\n",
       "    </tr>\n",
       "    <tr>\n",
       "      <th>4</th>\n",
       "      <td>4</td>\n",
       "      <td>Kimberly</td>\n",
       "      <td>Barnes</td>\n",
       "      <td>unelson@hull.com</td>\n",
       "      <td>0 days</td>\n",
       "      <td>15:48:41</td>\n",
       "      <td>03:14:39</td>\n",
       "    </tr>\n",
       "  </tbody>\n",
       "</table>\n",
       "</div>"
      ],
      "text/plain": [
       "   Unnamed: 0 First name  Last name                        Email Duration  \\\n",
       "0           0     Nathan      Burke  brittany44@brown-walton.com   0 days   \n",
       "1           1       Emma   Gonzalez      hotina@mueller-ford.com   0 days   \n",
       "2           2       Kurt  Henderson        chapmanjohn@smith.com   0 days   \n",
       "3           3     Tracey       Dunn              bzhang@wise.com   0 days   \n",
       "4           4   Kimberly     Barnes             unelson@hull.com   0 days   \n",
       "\n",
       "  Time joined Time exited  \n",
       "0    02:25:50    21:26:44  \n",
       "1    00:38:31    17:25:35  \n",
       "2    05:59:49    05:01:29  \n",
       "3    08:24:01    15:16:16  \n",
       "4    15:48:41    03:14:39  "
      ]
     },
     "execution_count": 14,
     "metadata": {},
     "output_type": "execute_result"
    }
   ],
   "source": [
    "df = pd.read_csv(\"../data/raw/sample_data.csv\")\n",
    "df.head()"
   ]
  },
  {
   "cell_type": "code",
   "execution_count": 15,
   "id": "47399f38",
   "metadata": {
    "ExecuteTime": {
     "end_time": "2022-02-16T16:23:20.267020Z",
     "start_time": "2022-02-16T16:23:20.264305Z"
    }
   },
   "outputs": [],
   "source": [
    "# Discarding first column from dataframe and renaming it properly\n",
    "df = df.iloc[:, 1:]\n",
    "df.rename(\n",
    "    columns={\n",
    "        \"First name\": \"First_name\",\n",
    "        \"Last name\": \"Last_name\",\n",
    "        \"Time joined\": \"Time_joined\",\n",
    "        \"Time exited\": \"Time_exited\",\n",
    "    },\n",
    "    inplace=True,\n",
    ")"
   ]
  },
  {
   "cell_type": "code",
   "execution_count": 16,
   "id": "9b76cc1f",
   "metadata": {
    "ExecuteTime": {
     "end_time": "2022-02-16T16:23:20.277838Z",
     "start_time": "2022-02-16T16:23:20.268045Z"
    }
   },
   "outputs": [
    {
     "name": "stdout",
     "output_type": "stream",
     "text": [
      "<class 'pandas.core.frame.DataFrame'>\n",
      "RangeIndex: 500 entries, 0 to 499\n",
      "Data columns (total 6 columns):\n",
      " #   Column       Non-Null Count  Dtype \n",
      "---  ------       --------------  ----- \n",
      " 0   First_name   500 non-null    object\n",
      " 1   Last_name    500 non-null    object\n",
      " 2   Email        500 non-null    object\n",
      " 3   Duration     500 non-null    object\n",
      " 4   Time_joined  500 non-null    object\n",
      " 5   Time_exited  500 non-null    object\n",
      "dtypes: object(6)\n",
      "memory usage: 23.6+ KB\n"
     ]
    }
   ],
   "source": [
    "df.info()"
   ]
  },
  {
   "cell_type": "markdown",
   "id": "bad26ab4",
   "metadata": {},
   "source": [
    "In this case, our primary concern is to secure the names of the individuals in the dataset. Columns that needs some kind of obfuscation are `First_name`, `Last_name` and `Email`. We cannot discard these columns since they will be taking part in the analysis. \n",
    "\n",
    "Here we are planning to merge the first name and last name in one single string. We will then proceed to apply the double hash on the name. We will first hash the name with sha-256, which is then followed by hashing with sha-512 on the hashed version of the name. One important thing we need to make sure is that the hashing technique is highly sensitive to case of the string. By just changing a single letter in the string from upper case to lower case, it changes the hash value completely. Hence, in this work, we are converting the string into lower case before applying hashing technique. For the `Email` column, we will be requiring only the domain name for the analysis. Hence first we apply the split method in order to just keep the domain name for the corresponding emails in the dataset, followed by merging the string name as one.  "
   ]
  },
  {
   "cell_type": "code",
   "execution_count": 17,
   "id": "55ce307c",
   "metadata": {
    "ExecuteTime": {
     "end_time": "2022-02-16T16:23:20.288951Z",
     "start_time": "2022-02-16T16:23:20.279459Z"
    }
   },
   "outputs": [
    {
     "data": {
      "text/html": [
       "<div>\n",
       "<style scoped>\n",
       "    .dataframe tbody tr th:only-of-type {\n",
       "        vertical-align: middle;\n",
       "    }\n",
       "\n",
       "    .dataframe tbody tr th {\n",
       "        vertical-align: top;\n",
       "    }\n",
       "\n",
       "    .dataframe thead th {\n",
       "        text-align: right;\n",
       "    }\n",
       "</style>\n",
       "<table border=\"1\" class=\"dataframe\">\n",
       "  <thead>\n",
       "    <tr style=\"text-align: right;\">\n",
       "      <th></th>\n",
       "      <th>Email</th>\n",
       "      <th>Duration</th>\n",
       "      <th>Time_joined</th>\n",
       "      <th>Time_exited</th>\n",
       "      <th>Name</th>\n",
       "    </tr>\n",
       "  </thead>\n",
       "  <tbody>\n",
       "    <tr>\n",
       "      <th>0</th>\n",
       "      <td>brown-walton.com</td>\n",
       "      <td>0 days</td>\n",
       "      <td>02:25:50</td>\n",
       "      <td>21:26:44</td>\n",
       "      <td>nathanburke</td>\n",
       "    </tr>\n",
       "    <tr>\n",
       "      <th>1</th>\n",
       "      <td>mueller-ford.com</td>\n",
       "      <td>0 days</td>\n",
       "      <td>00:38:31</td>\n",
       "      <td>17:25:35</td>\n",
       "      <td>emmagonzalez</td>\n",
       "    </tr>\n",
       "    <tr>\n",
       "      <th>2</th>\n",
       "      <td>smith.com</td>\n",
       "      <td>0 days</td>\n",
       "      <td>05:59:49</td>\n",
       "      <td>05:01:29</td>\n",
       "      <td>kurthenderson</td>\n",
       "    </tr>\n",
       "    <tr>\n",
       "      <th>3</th>\n",
       "      <td>wise.com</td>\n",
       "      <td>0 days</td>\n",
       "      <td>08:24:01</td>\n",
       "      <td>15:16:16</td>\n",
       "      <td>traceydunn</td>\n",
       "    </tr>\n",
       "    <tr>\n",
       "      <th>4</th>\n",
       "      <td>hull.com</td>\n",
       "      <td>0 days</td>\n",
       "      <td>15:48:41</td>\n",
       "      <td>03:14:39</td>\n",
       "      <td>kimberlybarnes</td>\n",
       "    </tr>\n",
       "  </tbody>\n",
       "</table>\n",
       "</div>"
      ],
      "text/plain": [
       "              Email Duration Time_joined Time_exited            Name\n",
       "0  brown-walton.com   0 days    02:25:50    21:26:44     nathanburke\n",
       "1  mueller-ford.com   0 days    00:38:31    17:25:35    emmagonzalez\n",
       "2         smith.com   0 days    05:59:49    05:01:29   kurthenderson\n",
       "3          wise.com   0 days    08:24:01    15:16:16      traceydunn\n",
       "4          hull.com   0 days    15:48:41    03:14:39  kimberlybarnes"
      ]
     },
     "execution_count": 17,
     "metadata": {},
     "output_type": "execute_result"
    }
   ],
   "source": [
    "df[\"Email\"] = df[\"Email\"].apply(lambda x: x.split(\"@\")[1])\n",
    "df[\"Name\"] = df[\"First_name\"] + df[\"Last_name\"]\n",
    "df[\"Name\"] = df[\"Name\"].str.lower()\n",
    "df.drop([\"First_name\", \"Last_name\"], 1, inplace=True)\n",
    "df.head()"
   ]
  },
  {
   "cell_type": "markdown",
   "id": "43e32e4d",
   "metadata": {
    "ExecuteTime": {
     "end_time": "2022-02-08T20:15:06.545600Z",
     "start_time": "2022-02-08T20:15:06.542776Z"
    }
   },
   "source": [
    "After that we will apply `hashlib` method twice in order to replace the actual name by their corresponding hashes. We are hashing `name` with sha-256 which is then followed by hasing with sha-512 on the hashed version.  "
   ]
  },
  {
   "cell_type": "code",
   "execution_count": 18,
   "id": "f51c5425",
   "metadata": {
    "ExecuteTime": {
     "end_time": "2022-02-16T16:23:20.294092Z",
     "start_time": "2022-02-16T16:23:20.290095Z"
    }
   },
   "outputs": [],
   "source": [
    "df[\"Name#\"] = df[\"Name\"].apply(\n",
    "    lambda x: hashlib.sha512(\n",
    "        (hashlib.sha256(x.encode()).hexdigest()).encode()\n",
    "    ).hexdigest()\n",
    ")\n",
    "df.drop([\"Name\"], 1, inplace=True)"
   ]
  },
  {
   "cell_type": "code",
   "execution_count": 19,
   "id": "24f76d36",
   "metadata": {
    "ExecuteTime": {
     "end_time": "2022-02-16T16:23:20.298100Z",
     "start_time": "2022-02-16T16:23:20.295084Z"
    }
   },
   "outputs": [],
   "source": [
    "# Rearranging columns\n",
    "df = df[[\"Name#\", \"Email\", \"Duration\", \"Time_joined\", \"Time_exited\"]]"
   ]
  },
  {
   "cell_type": "code",
   "execution_count": 20,
   "id": "2fee44bd",
   "metadata": {
    "ExecuteTime": {
     "end_time": "2022-02-16T16:23:20.305348Z",
     "start_time": "2022-02-16T16:23:20.299105Z"
    }
   },
   "outputs": [
    {
     "data": {
      "text/html": [
       "<div>\n",
       "<style scoped>\n",
       "    .dataframe tbody tr th:only-of-type {\n",
       "        vertical-align: middle;\n",
       "    }\n",
       "\n",
       "    .dataframe tbody tr th {\n",
       "        vertical-align: top;\n",
       "    }\n",
       "\n",
       "    .dataframe thead th {\n",
       "        text-align: right;\n",
       "    }\n",
       "</style>\n",
       "<table border=\"1\" class=\"dataframe\">\n",
       "  <thead>\n",
       "    <tr style=\"text-align: right;\">\n",
       "      <th></th>\n",
       "      <th>Name#</th>\n",
       "      <th>Email</th>\n",
       "      <th>Duration</th>\n",
       "      <th>Time_joined</th>\n",
       "      <th>Time_exited</th>\n",
       "    </tr>\n",
       "  </thead>\n",
       "  <tbody>\n",
       "    <tr>\n",
       "      <th>0</th>\n",
       "      <td>278bc48acfc7659fea325fac0b7752d3736139626173ac...</td>\n",
       "      <td>brown-walton.com</td>\n",
       "      <td>0 days</td>\n",
       "      <td>02:25:50</td>\n",
       "      <td>21:26:44</td>\n",
       "    </tr>\n",
       "    <tr>\n",
       "      <th>1</th>\n",
       "      <td>fbcde97fc6248ab75be12f4f5959e7e032059ec135014b...</td>\n",
       "      <td>mueller-ford.com</td>\n",
       "      <td>0 days</td>\n",
       "      <td>00:38:31</td>\n",
       "      <td>17:25:35</td>\n",
       "    </tr>\n",
       "    <tr>\n",
       "      <th>2</th>\n",
       "      <td>e713b03c66b048bfdbe7fef9a72b0a0f21dc3729798e0c...</td>\n",
       "      <td>smith.com</td>\n",
       "      <td>0 days</td>\n",
       "      <td>05:59:49</td>\n",
       "      <td>05:01:29</td>\n",
       "    </tr>\n",
       "    <tr>\n",
       "      <th>3</th>\n",
       "      <td>5106113c025181bfb1e6e709984c4e2d2b949c502ee927...</td>\n",
       "      <td>wise.com</td>\n",
       "      <td>0 days</td>\n",
       "      <td>08:24:01</td>\n",
       "      <td>15:16:16</td>\n",
       "    </tr>\n",
       "    <tr>\n",
       "      <th>4</th>\n",
       "      <td>bb278af9f161ddb2b8993490553f0ebd18e16c5b99faae...</td>\n",
       "      <td>hull.com</td>\n",
       "      <td>0 days</td>\n",
       "      <td>15:48:41</td>\n",
       "      <td>03:14:39</td>\n",
       "    </tr>\n",
       "  </tbody>\n",
       "</table>\n",
       "</div>"
      ],
      "text/plain": [
       "                                               Name#             Email  \\\n",
       "0  278bc48acfc7659fea325fac0b7752d3736139626173ac...  brown-walton.com   \n",
       "1  fbcde97fc6248ab75be12f4f5959e7e032059ec135014b...  mueller-ford.com   \n",
       "2  e713b03c66b048bfdbe7fef9a72b0a0f21dc3729798e0c...         smith.com   \n",
       "3  5106113c025181bfb1e6e709984c4e2d2b949c502ee927...          wise.com   \n",
       "4  bb278af9f161ddb2b8993490553f0ebd18e16c5b99faae...          hull.com   \n",
       "\n",
       "  Duration Time_joined Time_exited  \n",
       "0   0 days    02:25:50    21:26:44  \n",
       "1   0 days    00:38:31    17:25:35  \n",
       "2   0 days    05:59:49    05:01:29  \n",
       "3   0 days    08:24:01    15:16:16  \n",
       "4   0 days    15:48:41    03:14:39  "
      ]
     },
     "execution_count": 20,
     "metadata": {},
     "output_type": "execute_result"
    }
   ],
   "source": [
    "df.head()"
   ]
  },
  {
   "cell_type": "markdown",
   "id": "50d6ed73",
   "metadata": {},
   "source": [
    "# Conclusion\n",
    "\n",
    "In this notebook, we explored some data obfuscation techniques used in industry, highlighting its weakness and strength. SHA-256 being a very good hashing algorithm suffers from dictionary/brute-force attack from hackers. These weakness are then covered by the adding of salt in hashing technique with more powerful key derivations functions like PBKDF2, BCrypt, Scrypt and Argon2 which we discussed in this notebook. \n",
    "\n",
    "We then applied the double hashing technique with sha-256 (32 byte word) and sha-512 (64 byte word) on the dataframe we are analysing.  "
   ]
  }
 ],
 "metadata": {
  "kernelspec": {
   "display_name": "Python 3",
   "language": "python",
   "name": "python3"
  },
  "language_info": {
   "codemirror_mode": {
    "name": "ipython",
    "version": 3
   },
   "file_extension": ".py",
   "mimetype": "text/x-python",
   "name": "python",
   "nbconvert_exporter": "python",
   "pygments_lexer": "ipython3",
   "version": "3.8.3"
  },
  "toc": {
   "base_numbering": 1,
   "nav_menu": {},
   "number_sections": true,
   "sideBar": true,
   "skip_h1_title": false,
   "title_cell": "Table of Contents",
   "title_sidebar": "Contents",
   "toc_cell": false,
   "toc_position": {},
   "toc_section_display": true,
   "toc_window_display": false
  }
 },
 "nbformat": 4,
 "nbformat_minor": 5
}
