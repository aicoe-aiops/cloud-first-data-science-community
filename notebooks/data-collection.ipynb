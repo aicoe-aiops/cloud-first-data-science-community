{
 "cells": [
  {
   "cell_type": "markdown",
   "id": "1bca5519-630b-46a1-a46f-c220ac5ac093",
   "metadata": {},
   "source": [
    "# Data collection from opf-datacatlog bucket"
   ]
  },
  {
   "cell_type": "markdown",
   "id": "better-farmer",
   "metadata": {},
   "source": [
    "The following notebook serves the purpose of giving a brief overview of meetup attendees data saved in a opf-datacatlog bucket."
   ]
  },
  {
   "cell_type": "code",
   "execution_count": 10,
   "id": "stylish-chess",
   "metadata": {},
   "outputs": [
    {
     "data": {
      "text/plain": [
       "True"
      ]
     },
     "execution_count": 10,
     "metadata": {},
     "output_type": "execute_result"
    }
   ],
   "source": [
    "import os\n",
    "import pandas as pd\n",
    "import boto3\n",
    "from dotenv import find_dotenv, load_dotenv\n",
    "\n",
    "load_dotenv(find_dotenv())"
   ]
  },
  {
   "cell_type": "markdown",
   "id": "accessible-suggestion",
   "metadata": {},
   "source": [
    "## Accessing the environment keys:\n",
    "\n",
    "The credentials for accessing the bucket can be found [here](https://www.operate-first.cloud/apps/content/odh/trino/access_public_bucket.html). "
   ]
  },
  {
   "cell_type": "code",
   "execution_count": 11,
   "id": "unknown-tender",
   "metadata": {},
   "outputs": [],
   "source": [
    "s3_endpoint_url = os.getenv(\"S3_ENDPOINT\")\n",
    "s3_access_key = os.getenv(\"S3_ACCESS_KEY\")\n",
    "s3_secret_key = os.getenv(\"S3_SECRET_KEY\")\n",
    "s3_bucket = os.getenv(\"S3_BUCKET\")"
   ]
  },
  {
   "cell_type": "markdown",
   "id": "wooden-shock",
   "metadata": {},
   "source": [
    "We will be using boto3 client, s3, to extract the content from the bucket."
   ]
  },
  {
   "cell_type": "code",
   "execution_count": 12,
   "id": "identified-health",
   "metadata": {},
   "outputs": [],
   "source": [
    "s3 = boto3.client(\n",
    "    \"s3\",\n",
    "    endpoint_url=s3_endpoint_url,\n",
    "    aws_access_key_id=s3_access_key,\n",
    "    aws_secret_access_key=s3_secret_key,\n",
    ")"
   ]
  },
  {
   "cell_type": "markdown",
   "id": "d5bc695b-2143-4a8a-aa75-3311645da2de",
   "metadata": {},
   "source": [
    "We can use this option to view all the contents in the bucket."
   ]
  },
  {
   "cell_type": "code",
   "execution_count": 13,
   "id": "automatic-authentication",
   "metadata": {},
   "outputs": [
    {
     "data": {
      "text/plain": [
       "\"\\nfor key in s3.list_objects(Bucket=s3_bucket)['Contents']:\\n    print(key['Key'])\\n\""
      ]
     },
     "execution_count": 13,
     "metadata": {},
     "output_type": "execute_result"
    }
   ],
   "source": [
    "\"\"\"\n",
    "for key in s3.list_objects(Bucket=s3_bucket)['Contents']:\n",
    "    print(key['Key'])\n",
    "\"\"\""
   ]
  },
  {
   "cell_type": "markdown",
   "id": "ce8e4409-98b6-404c-b0bc-42a9e6d874d2",
   "metadata": {},
   "source": [
    "The meetup attendees data are stored in `opf-datacatlog` bucket in this folder: `open-services-group/operate-first-data-science-community/meetup_attendees`. In order to extract them, we can follow the steps as shown below:"
   ]
  },
  {
   "cell_type": "code",
   "execution_count": 14,
   "id": "f971068f-d6e8-41a2-bb4f-892945a30f04",
   "metadata": {},
   "outputs": [
    {
     "data": {
      "text/html": [
       "<div>\n",
       "<style scoped>\n",
       "    .dataframe tbody tr th:only-of-type {\n",
       "        vertical-align: middle;\n",
       "    }\n",
       "\n",
       "    .dataframe tbody tr th {\n",
       "        vertical-align: top;\n",
       "    }\n",
       "\n",
       "    .dataframe thead th {\n",
       "        text-align: right;\n",
       "    }\n",
       "</style>\n",
       "<table border=\"1\" class=\"dataframe\">\n",
       "  <thead>\n",
       "    <tr style=\"text-align: right;\">\n",
       "      <th></th>\n",
       "      <th>Date</th>\n",
       "      <th>Name#</th>\n",
       "      <th>Email</th>\n",
       "      <th>Duration</th>\n",
       "      <th>Time_joined</th>\n",
       "      <th>Time_exited</th>\n",
       "    </tr>\n",
       "  </thead>\n",
       "  <tbody>\n",
       "    <tr>\n",
       "      <th>0</th>\n",
       "      <td>2021-12-14</td>\n",
       "      <td>513fa0b6615335d0bed0a1dcdb40e1e515c07619608650...</td>\n",
       "      <td>redhat.com</td>\n",
       "      <td>30 min</td>\n",
       "      <td>11:02 AM</td>\n",
       "      <td>11:32 AM</td>\n",
       "    </tr>\n",
       "    <tr>\n",
       "      <th>1</th>\n",
       "      <td>2021-12-14</td>\n",
       "      <td>c0600eaa67ce4b171cb130cfa4914cc54d163384012e93...</td>\n",
       "      <td>redhat.com</td>\n",
       "      <td>30 min</td>\n",
       "      <td>11:02 AM</td>\n",
       "      <td>11:32 AM</td>\n",
       "    </tr>\n",
       "    <tr>\n",
       "      <th>2</th>\n",
       "      <td>2021-12-14</td>\n",
       "      <td>864042274f41a29a5b7fb860c7ec9fb3c1e6ec0e994731...</td>\n",
       "      <td>redhat.com</td>\n",
       "      <td>30 min</td>\n",
       "      <td>11:02 AM</td>\n",
       "      <td>11:32 AM</td>\n",
       "    </tr>\n",
       "    <tr>\n",
       "      <th>3</th>\n",
       "      <td>2021-12-14</td>\n",
       "      <td>c281759f750aa8f477d025643494df52e531935a0bfbb1...</td>\n",
       "      <td>redhat.com</td>\n",
       "      <td>31 min</td>\n",
       "      <td>11:02 AM</td>\n",
       "      <td>11:33 AM</td>\n",
       "    </tr>\n",
       "    <tr>\n",
       "      <th>4</th>\n",
       "      <td>2021-12-14</td>\n",
       "      <td>76ecf41e4da0c8629abadab0ea6751c7a85f0fe632a96d...</td>\n",
       "      <td>redhat.com</td>\n",
       "      <td>30 min</td>\n",
       "      <td>11:02 AM</td>\n",
       "      <td>11:32 AM</td>\n",
       "    </tr>\n",
       "  </tbody>\n",
       "</table>\n",
       "</div>"
      ],
      "text/plain": [
       "         Date                                              Name#       Email  \\\n",
       "0  2021-12-14  513fa0b6615335d0bed0a1dcdb40e1e515c07619608650...  redhat.com   \n",
       "1  2021-12-14  c0600eaa67ce4b171cb130cfa4914cc54d163384012e93...  redhat.com   \n",
       "2  2021-12-14  864042274f41a29a5b7fb860c7ec9fb3c1e6ec0e994731...  redhat.com   \n",
       "3  2021-12-14  c281759f750aa8f477d025643494df52e531935a0bfbb1...  redhat.com   \n",
       "4  2021-12-14  76ecf41e4da0c8629abadab0ea6751c7a85f0fe632a96d...  redhat.com   \n",
       "\n",
       "  Duration Time_joined Time_exited  \n",
       "0   30 min    11:02 AM    11:32 AM  \n",
       "1   30 min    11:02 AM    11:32 AM  \n",
       "2   30 min    11:02 AM    11:32 AM  \n",
       "3   31 min    11:02 AM    11:33 AM  \n",
       "4   30 min    11:02 AM    11:32 AM  "
      ]
     },
     "execution_count": 14,
     "metadata": {},
     "output_type": "execute_result"
    }
   ],
   "source": [
    "obj = s3.get_object(\n",
    "    Bucket=s3_bucket,\n",
    "    Key=\"open-services-group/operate-first-data-science-community/meetup_attendees/obfuscated_2021-12-14_10_58_EYBYEGJGJI_Attendance_Report-Attendees.csv\",\n",
    ")\n",
    "df = pd.read_csv(obj[\"Body\"])\n",
    "df.drop([\"Unnamed: 0\"], 1, inplace=True)\n",
    "df.head()"
   ]
  },
  {
   "cell_type": "markdown",
   "id": "734965b1-3218-4ee0-b0b8-b37eb9fa2394",
   "metadata": {},
   "source": [
    "Here we have a sample of meetup-attendees obfuscated data. It contains obfuscated name, date of meetup, time_joined, time_excited, and respective domain name of email address. We will use these information in order to do an exploratory data analysis and gather useful insights from the data."
   ]
  }
 ],
 "metadata": {
  "kernelspec": {
   "display_name": "Python 3",
   "language": "python",
   "name": "python3"
  },
  "language_info": {
   "codemirror_mode": {
    "name": "ipython",
    "version": 3
   },
   "file_extension": ".py",
   "mimetype": "text/x-python",
   "name": "python",
   "nbconvert_exporter": "python",
   "pygments_lexer": "ipython3",
   "version": "3.8.6"
  }
 },
 "nbformat": 4,
 "nbformat_minor": 5
}
